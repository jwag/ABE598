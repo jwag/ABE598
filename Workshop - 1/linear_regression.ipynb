{
 "cells": [
  {
   "cell_type": "code",
   "execution_count": 1,
   "metadata": {},
   "outputs": [
    {
     "name": "stderr",
     "output_type": "stream",
     "text": [
      "Using TensorFlow backend.\n",
      "/Users/karan/.virtualenvs/dlearn/lib/python3.6/importlib/_bootstrap.py:219: RuntimeWarning: compiletime version 3.5 of module 'tensorflow.python.framework.fast_tensor_util' does not match runtime version 3.6\n",
      "  return f(*args, **kwds)\n"
     ]
    }
   ],
   "source": []
  },
  {
   "cell_type": "code",
   "execution_count": null,
   "metadata": {},
   "outputs": [],
   "source": []
  },
  {
   "cell_type": "code",
   "execution_count": 2,
   "metadata": {},
   "outputs": [],
   "source": [
    "# Generate dataset\n",
    "trX = np.linspace(-1, 1, 101)\n",
    "trY = 2 * trX + np.random.randn(*trX.shape) * 0.33 # create a y value which is approximately linear but with some random noise"
   ]
  },
  {
   "cell_type": "code",
   "execution_count": 3,
   "metadata": {},
   "outputs": [
    {
     "name": "stderr",
     "output_type": "stream",
     "text": [
      "/Users/karan/.virtualenvs/dlearn/lib/python3.6/site-packages/ipykernel_launcher.py:3: UserWarning: Update your `Dense` call to the Keras 2 API: `Dense(input_dim=1, activation=\"linear\", units=1, kernel_initializer=\"uniform\")`\n",
      "  This is separate from the ipykernel package so we can avoid doing imports until\n"
     ]
    }
   ],
   "source": [
    "# Linear regression model\n",
    "model = Sequential()\n",
    "model.add(Dense(input_dim=1, output_dim=1, init='uniform', activation='linear'))\n",
    "model.compile(optimizer='sgd', loss='mse')"
   ]
  },
  {
   "cell_type": "code",
   "execution_count": 4,
   "metadata": {},
   "outputs": [
    {
     "name": "stdout",
     "output_type": "stream",
     "text": [
      "Linear regression model is initialized with weight w: -0.04, b: 0.00\n"
     ]
    }
   ],
   "source": [
    "# Print initial weights\n",
    "weights = model.layers[0].get_weights()\n",
    "w_init = weights[0][0][0]\n",
    "b_init = weights[1][0]\n",
    "print('Linear regression model is initialized with weight w: %.2f, b: %.2f' % (w_init, b_init))"
   ]
  },
  {
   "cell_type": "code",
   "execution_count": 5,
   "metadata": {},
   "outputs": [
    {
     "name": "stderr",
     "output_type": "stream",
     "text": [
      "/Users/karan/.virtualenvs/dlearn/lib/python3.6/site-packages/keras/models.py:939: UserWarning: The `nb_epoch` argument in `fit` has been renamed `epochs`.\n",
      "  warnings.warn('The `nb_epoch` argument in `fit` '\n"
     ]
    },
    {
     "name": "stdout",
     "output_type": "stream",
     "text": [
      "Epoch 1/100\n",
      "101/101 [==============================] - 0s 2ms/step - loss: 1.5000\n",
      "Epoch 2/100\n",
      "101/101 [==============================] - 0s 50us/step - loss: 1.4192\n",
      "Epoch 3/100\n",
      "101/101 [==============================] - 0s 60us/step - loss: 1.3433\n",
      "Epoch 4/100\n",
      "101/101 [==============================] - 0s 46us/step - loss: 1.2867\n",
      "Epoch 5/100\n",
      "101/101 [==============================] - 0s 49us/step - loss: 1.2273\n",
      "Epoch 6/100\n",
      "101/101 [==============================] - 0s 49us/step - loss: 1.1647\n",
      "Epoch 7/100\n",
      "101/101 [==============================] - 0s 61us/step - loss: 1.1017\n",
      "Epoch 8/100\n",
      "101/101 [==============================] - 0s 47us/step - loss: 1.0538\n",
      "Epoch 9/100\n",
      "101/101 [==============================] - 0s 41us/step - loss: 1.0103\n",
      "Epoch 10/100\n",
      "101/101 [==============================] - 0s 60us/step - loss: 0.9582\n",
      "Epoch 11/100\n",
      "101/101 [==============================] - 0s 106us/step - loss: 0.9053\n",
      "Epoch 12/100\n",
      "101/101 [==============================] - 0s 103us/step - loss: 0.8534\n",
      "Epoch 13/100\n",
      "101/101 [==============================] - 0s 42us/step - loss: 0.8186\n",
      "Epoch 14/100\n",
      "101/101 [==============================] - 0s 58us/step - loss: 0.7842\n",
      "Epoch 15/100\n",
      "101/101 [==============================] - 0s 46us/step - loss: 0.7454\n",
      "Epoch 16/100\n",
      "101/101 [==============================] - 0s 43us/step - loss: 0.7096\n",
      "Epoch 17/100\n",
      "101/101 [==============================] - 0s 54us/step - loss: 0.6735\n",
      "Epoch 18/100\n",
      "101/101 [==============================] - 0s 36us/step - loss: 0.6437\n",
      "Epoch 19/100\n",
      "101/101 [==============================] - 0s 36us/step - loss: 0.6147\n",
      "Epoch 20/100\n",
      "101/101 [==============================] - 0s 45us/step - loss: 0.5837\n",
      "Epoch 21/100\n",
      "101/101 [==============================] - 0s 41us/step - loss: 0.5578\n",
      "Epoch 22/100\n",
      "101/101 [==============================] - 0s 45us/step - loss: 0.5312\n",
      "Epoch 23/100\n",
      "101/101 [==============================] - 0s 48us/step - loss: 0.5089\n",
      "Epoch 24/100\n",
      "101/101 [==============================] - 0s 52us/step - loss: 0.4887\n",
      "Epoch 25/100\n",
      "101/101 [==============================] - 0s 43us/step - loss: 0.4678\n",
      "Epoch 26/100\n",
      "101/101 [==============================] - 0s 57us/step - loss: 0.4505\n",
      "Epoch 27/100\n",
      "101/101 [==============================] - 0s 48us/step - loss: 0.4309\n",
      "Epoch 28/100\n",
      "101/101 [==============================] - 0s 35us/step - loss: 0.4125\n",
      "Epoch 29/100\n",
      "101/101 [==============================] - 0s 48us/step - loss: 0.3949\n",
      "Epoch 30/100\n",
      "101/101 [==============================] - 0s 44us/step - loss: 0.3797\n",
      "Epoch 31/100\n",
      "101/101 [==============================] - 0s 48us/step - loss: 0.3618\n",
      "Epoch 32/100\n",
      "101/101 [==============================] - 0s 621us/step - loss: 0.3452\n",
      "Epoch 33/100\n",
      "101/101 [==============================] - 0s 96us/step - loss: 0.3333\n",
      "Epoch 34/100\n",
      "101/101 [==============================] - 0s 63us/step - loss: 0.3200\n",
      "Epoch 35/100\n",
      "101/101 [==============================] - 0s 71us/step - loss: 0.3073\n",
      "Epoch 36/100\n",
      "101/101 [==============================] - 0s 70us/step - loss: 0.2968\n",
      "Epoch 37/100\n",
      "101/101 [==============================] - 0s 58us/step - loss: 0.2866\n",
      "Epoch 38/100\n",
      "101/101 [==============================] - 0s 63us/step - loss: 0.2769\n",
      "Epoch 39/100\n",
      "101/101 [==============================] - 0s 47us/step - loss: 0.2661\n",
      "Epoch 40/100\n",
      "101/101 [==============================] - 0s 55us/step - loss: 0.2554\n",
      "Epoch 41/100\n",
      "101/101 [==============================] - 0s 260us/step - loss: 0.2453\n",
      "Epoch 42/100\n",
      "101/101 [==============================] - 0s 54us/step - loss: 0.2381\n",
      "Epoch 43/100\n",
      "101/101 [==============================] - 0s 69us/step - loss: 0.2301\n",
      "Epoch 44/100\n",
      "101/101 [==============================] - 0s 46us/step - loss: 0.2229\n",
      "Epoch 45/100\n",
      "101/101 [==============================] - 0s 65us/step - loss: 0.2164\n",
      "Epoch 46/100\n",
      "101/101 [==============================] - 0s 52us/step - loss: 0.2085\n",
      "Epoch 47/100\n",
      "101/101 [==============================] - 0s 75us/step - loss: 0.2019\n",
      "Epoch 48/100\n",
      "101/101 [==============================] - 0s 59us/step - loss: 0.1964\n",
      "Epoch 49/100\n",
      "101/101 [==============================] - 0s 42us/step - loss: 0.1904\n",
      "Epoch 50/100\n",
      "101/101 [==============================] - 0s 60us/step - loss: 0.1860\n",
      "Epoch 51/100\n",
      "101/101 [==============================] - 0s 50us/step - loss: 0.1806\n",
      "Epoch 52/100\n",
      "101/101 [==============================] - 0s 59us/step - loss: 0.1762\n",
      "Epoch 53/100\n",
      "101/101 [==============================] - 0s 47us/step - loss: 0.1719\n",
      "Epoch 54/100\n",
      "101/101 [==============================] - 0s 46us/step - loss: 0.1671\n",
      "Epoch 55/100\n",
      "101/101 [==============================] - 0s 57us/step - loss: 0.1625\n",
      "Epoch 56/100\n",
      "101/101 [==============================] - 0s 51us/step - loss: 0.1587\n",
      "Epoch 57/100\n",
      "101/101 [==============================] - 0s 189us/step - loss: 0.1552\n",
      "Epoch 58/100\n",
      "101/101 [==============================] - 0s 168us/step - loss: 0.1518\n",
      "Epoch 59/100\n",
      "101/101 [==============================] - 0s 54us/step - loss: 0.1486\n",
      "Epoch 60/100\n",
      "101/101 [==============================] - 0s 54us/step - loss: 0.1451\n",
      "Epoch 61/100\n",
      "101/101 [==============================] - 0s 66us/step - loss: 0.1420\n",
      "Epoch 62/100\n",
      "101/101 [==============================] - 0s 46us/step - loss: 0.1394\n",
      "Epoch 63/100\n",
      "101/101 [==============================] - 0s 58us/step - loss: 0.1362\n",
      "Epoch 64/100\n",
      "101/101 [==============================] - 0s 43us/step - loss: 0.1339\n",
      "Epoch 65/100\n",
      "101/101 [==============================] - 0s 47us/step - loss: 0.1312\n",
      "Epoch 66/100\n",
      "101/101 [==============================] - 0s 61us/step - loss: 0.1280\n",
      "Epoch 67/100\n",
      "101/101 [==============================] - 0s 68us/step - loss: 0.1262\n",
      "Epoch 68/100\n",
      "101/101 [==============================] - 0s 54us/step - loss: 0.1241\n",
      "Epoch 69/100\n",
      "101/101 [==============================] - 0s 136us/step - loss: 0.1219\n",
      "Epoch 70/100\n",
      "101/101 [==============================] - ETA: 0s - loss: 0.155 - 0s 79us/step - loss: 0.1200\n",
      "Epoch 71/100\n",
      "101/101 [==============================] - 0s 84us/step - loss: 0.1180\n",
      "Epoch 72/100\n",
      "101/101 [==============================] - 0s 55us/step - loss: 0.1165\n",
      "Epoch 73/100\n",
      "101/101 [==============================] - 0s 74us/step - loss: 0.1151\n",
      "Epoch 74/100\n",
      "101/101 [==============================] - 0s 64us/step - loss: 0.1135\n",
      "Epoch 75/100\n",
      "101/101 [==============================] - 0s 70us/step - loss: 0.1124\n",
      "Epoch 76/100\n",
      "101/101 [==============================] - 0s 55us/step - loss: 0.1110\n",
      "Epoch 77/100\n",
      "101/101 [==============================] - 0s 64us/step - loss: 0.1099\n",
      "Epoch 78/100\n",
      "101/101 [==============================] - 0s 57us/step - loss: 0.1090\n",
      "Epoch 79/100\n",
      "101/101 [==============================] - 0s 51us/step - loss: 0.1081\n",
      "Epoch 80/100\n",
      "101/101 [==============================] - 0s 72us/step - loss: 0.1070\n",
      "Epoch 81/100\n",
      "101/101 [==============================] - 0s 58us/step - loss: 0.1055\n",
      "Epoch 82/100\n",
      "101/101 [==============================] - 0s 76us/step - loss: 0.1046\n",
      "Epoch 83/100\n",
      "101/101 [==============================] - 0s 62us/step - loss: 0.1034\n",
      "Epoch 84/100\n",
      "101/101 [==============================] - 0s 93us/step - loss: 0.1029\n",
      "Epoch 85/100\n",
      "101/101 [==============================] - 0s 65us/step - loss: 0.1018\n",
      "Epoch 86/100\n",
      "101/101 [==============================] - 0s 76us/step - loss: 0.1013\n",
      "Epoch 87/100\n",
      "101/101 [==============================] - 0s 61us/step - loss: 0.1006\n",
      "Epoch 88/100\n",
      "101/101 [==============================] - 0s 123us/step - loss: 0.1002\n",
      "Epoch 89/100\n",
      "101/101 [==============================] - 0s 73us/step - loss: 0.0992\n",
      "Epoch 90/100\n",
      "101/101 [==============================] - 0s 44us/step - loss: 0.0986\n",
      "Epoch 91/100\n",
      "101/101 [==============================] - 0s 69us/step - loss: 0.0978\n",
      "Epoch 92/100\n",
      "101/101 [==============================] - 0s 49us/step - loss: 0.0971\n",
      "Epoch 93/100\n",
      "101/101 [==============================] - 0s 45us/step - loss: 0.0965\n",
      "Epoch 94/100\n",
      "101/101 [==============================] - 0s 59us/step - loss: 0.0961\n",
      "Epoch 95/100\n",
      "101/101 [==============================] - 0s 46us/step - loss: 0.0953\n",
      "Epoch 96/100\n",
      "101/101 [==============================] - 0s 64us/step - loss: 0.0949\n",
      "Epoch 97/100\n",
      "101/101 [==============================] - 0s 52us/step - loss: 0.0944\n",
      "Epoch 98/100\n"
     ]
    },
    {
     "name": "stdout",
     "output_type": "stream",
     "text": [
      "101/101 [==============================] - 0s 47us/step - loss: 0.0942\n",
      "Epoch 99/100\n",
      "101/101 [==============================] - 0s 53us/step - loss: 0.0939\n",
      "Epoch 100/100\n",
      "101/101 [==============================] - 0s 46us/step - loss: 0.0934\n"
     ]
    },
    {
     "data": {
      "text/plain": [
       "<keras.callbacks.History at 0x117a06be0>"
      ]
     },
     "execution_count": 5,
     "metadata": {},
     "output_type": "execute_result"
    }
   ],
   "source": [
    "# Train\n",
    "model.fit(trX, trY, nb_epoch=100, verbose=1)"
   ]
  },
  {
   "cell_type": "code",
   "execution_count": 6,
   "metadata": {},
   "outputs": [
    {
     "name": "stdout",
     "output_type": "stream",
     "text": [
      "Linear regression model is trained with weight w: 1.88, b: -0.01\n"
     ]
    }
   ],
   "source": [
    "# Print trained weights\n",
    "weights = model.layers[0].get_weights()\n",
    "w = weights[0][0][0]\n",
    "b = weights[1][0]\n",
    "print('Linear regression model is trained with weight w: %.2f, b: %.2f' % (w, b))"
   ]
  },
  {
   "cell_type": "code",
   "execution_count": 7,
   "metadata": {},
   "outputs": [
    {
     "data": {
      "image/png": "[encoded data removed]",
      "text/plain": [
       "<matplotlib.figure.Figure at 0x117b1d6a0>"
      ]
     },
     "metadata": {},
     "output_type": "display_data"
    }
   ],
   "source": [
    "plt.plot(trX, trY, label='data')\n",
    "plt.plot(trX, w_init*trX + b_init, label='init')\n",
    "plt.plot(trX, w*trX + b, label='prediction')\n",
    "plt.legend()\n",
    "plt.show()"
   ]
  }
 ],
 "metadata": {
  "kernelspec": {
   "display_name": "Python 3",
   "language": "python",
   "name": "python3"
  },
  "language_info": {
   "codemirror_mode": {
    "name": "ipython",
    "version": 3
   },
   "file_extension": ".py",
   "mimetype": "text/x-python",
   "name": "python",
   "nbconvert_exporter": "python",
   "pygments_lexer": "ipython3",
   "version": "3.6.3"
  }
 },
 "nbformat": 4,
 "nbformat_minor": 2
}
