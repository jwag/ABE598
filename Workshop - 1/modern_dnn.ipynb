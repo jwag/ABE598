{
 "cells": [
  {
   "cell_type": "code",
   "execution_count": 1,
   "metadata": {},
   "outputs": [
    {
     "name": "stderr",
     "output_type": "stream",
     "text": [
      "Using TensorFlow backend.\n",
      "/Users/karan/.virtualenvs/dlearn/lib/python3.6/importlib/_bootstrap.py:219: RuntimeWarning: compiletime version 3.5 of module 'tensorflow.python.framework.fast_tensor_util' does not match runtime version 3.6\n",
      "  return f(*args, **kwds)\n"
     ]
    }
   ],
   "source": [
    "from keras.models import Sequential\n",
    "from keras.layers import Dense, Activation, Dropout\n",
    "from keras.optimizers import RMSprop\n",
    "from keras.datasets import mnist\n",
    "from keras.utils import np_utils"
   ]
  },
  {
   "cell_type": "code",
   "execution_count": 2,
   "metadata": {},
   "outputs": [],
   "source": [
    "batch_size = 128\n",
    "nb_classes = 10\n",
    "nb_epoch = 100"
   ]
  },
  {
   "cell_type": "code",
   "execution_count": 3,
   "metadata": {},
   "outputs": [],
   "source": [
    "# Load MNIST dataset\n",
    "(X_train, y_train), (X_test, y_test) = mnist.load_data()\n",
    "X_train = X_train.reshape(60000, 784)\n",
    "X_test = X_test.reshape(10000, 784)\n",
    "X_train = X_train.astype('float32')\n",
    "X_test = X_test.astype('float32')\n",
    "X_train /= 255\n",
    "X_test /= 255\n",
    "Y_train = np_utils.to_categorical(y_train, nb_classes)\n",
    "Y_test = np_utils.to_categorical(y_test, nb_classes)"
   ]
  },
  {
   "cell_type": "code",
   "execution_count": 4,
   "metadata": {},
   "outputs": [
    {
     "name": "stdout",
     "output_type": "stream",
     "text": [
      "_________________________________________________________________\n",
      "Layer (type)                 Output Shape              Param #   \n",
      "=================================================================\n",
      "dense_1 (Dense)              (None, 625)               490625    \n",
      "_________________________________________________________________\n",
      "activation_1 (Activation)    (None, 625)               0         \n",
      "_________________________________________________________________\n",
      "dropout_1 (Dropout)          (None, 625)               0         \n",
      "_________________________________________________________________\n",
      "dense_2 (Dense)              (None, 625)               391250    \n",
      "_________________________________________________________________\n",
      "activation_2 (Activation)    (None, 625)               0         \n",
      "_________________________________________________________________\n",
      "dropout_2 (Dropout)          (None, 625)               0         \n",
      "_________________________________________________________________\n",
      "dense_3 (Dense)              (None, 10)                6260      \n",
      "_________________________________________________________________\n",
      "activation_3 (Activation)    (None, 10)                0         \n",
      "=================================================================\n",
      "Total params: 888,135\n",
      "Trainable params: 888,135\n",
      "Non-trainable params: 0\n",
      "_________________________________________________________________\n"
     ]
    },
    {
     "name": "stderr",
     "output_type": "stream",
     "text": [
      "/Users/karan/.virtualenvs/dlearn/lib/python3.6/site-packages/ipykernel_launcher.py:3: UserWarning: Update your `Dense` call to the Keras 2 API: `Dense(input_dim=784, units=625, kernel_initializer=\"normal\")`\n",
      "  This is separate from the ipykernel package so we can avoid doing imports until\n",
      "/Users/karan/.virtualenvs/dlearn/lib/python3.6/site-packages/ipykernel_launcher.py:6: UserWarning: Update your `Dense` call to the Keras 2 API: `Dense(input_dim=625, units=625, kernel_initializer=\"normal\")`\n",
      "  \n",
      "/Users/karan/.virtualenvs/dlearn/lib/python3.6/site-packages/ipykernel_launcher.py:9: UserWarning: Update your `Dense` call to the Keras 2 API: `Dense(input_dim=625, units=10, kernel_initializer=\"normal\")`\n",
      "  if __name__ == '__main__':\n"
     ]
    }
   ],
   "source": [
    "# Deep Multilayer Perceptron model\n",
    "model = Sequential()\n",
    "model.add(Dense(output_dim=625, input_dim=784, init='normal'))\n",
    "model.add(Activation('relu'))\n",
    "model.add(Dropout(0.2))\n",
    "model.add(Dense(output_dim=625, input_dim=625, init='normal'))\n",
    "model.add(Activation('relu'))\n",
    "model.add(Dropout(0.5))\n",
    "model.add(Dense(output_dim=10, input_dim=625, init='normal'))\n",
    "model.add(Activation('softmax'))\n",
    "\n",
    "model.compile(optimizer=RMSprop(lr=0.001, rho=0.9), loss='categorical_crossentropy', metrics=['accuracy'])\n",
    "model.summary()"
   ]
  },
  {
   "cell_type": "code",
   "execution_count": null,
   "metadata": {},
   "outputs": [
    {
     "name": "stderr",
     "output_type": "stream",
     "text": [
      "/Users/karan/.virtualenvs/dlearn/lib/python3.6/site-packages/keras/models.py:939: UserWarning: The `nb_epoch` argument in `fit` has been renamed `epochs`.\n",
      "  warnings.warn('The `nb_epoch` argument in `fit` '\n"
     ]
    },
    {
     "name": "stdout",
     "output_type": "stream",
     "text": [
      "Epoch 1/100\n",
      "60000/60000 [==============================] - 9s 154us/step - loss: 0.2615 - acc: 0.9201\n",
      "Epoch 2/100\n",
      "60000/60000 [==============================] - 9s 147us/step - loss: 0.1110 - acc: 0.9670\n",
      "Epoch 3/100\n",
      "60000/60000 [==============================] - 9s 142us/step - loss: 0.0836 - acc: 0.9758\n",
      "Epoch 4/100\n",
      "60000/60000 [==============================] - 9s 142us/step - loss: 0.0653 - acc: 0.9807\n",
      "Epoch 5/100\n",
      "60000/60000 [==============================] - 9s 142us/step - loss: 0.0593 - acc: 0.9834\n",
      "Epoch 6/100\n",
      "60000/60000 [==============================] - 9s 142us/step - loss: 0.0517 - acc: 0.9853\n",
      "Epoch 7/100\n",
      "60000/60000 [==============================] - 9s 142us/step - loss: 0.0479 - acc: 0.9869\n",
      "Epoch 8/100\n",
      "60000/60000 [==============================] - 9s 142us/step - loss: 0.0398 - acc: 0.9889\n",
      "Epoch 9/100\n",
      "60000/60000 [==============================] - 9s 153us/step - loss: 0.0397 - acc: 0.9893\n",
      "Epoch 10/100\n",
      "60000/60000 [==============================] - 12s 201us/step - loss: 0.0368 - acc: 0.9899\n",
      "Epoch 11/100\n",
      "60000/60000 [==============================] - 10s 169us/step - loss: 0.0352 - acc: 0.9910\n",
      "Epoch 12/100\n",
      "60000/60000 [==============================] - 10s 171us/step - loss: 0.0325 - acc: 0.9914\n",
      "Epoch 13/100\n",
      "60000/60000 [==============================] - 10s 165us/step - loss: 0.0326 - acc: 0.9917\n",
      "Epoch 14/100\n",
      "60000/60000 [==============================] - 9s 152us/step - loss: 0.0308 - acc: 0.9926\n",
      "Epoch 15/100\n",
      "60000/60000 [==============================] - 9s 144us/step - loss: 0.0300 - acc: 0.9926\n",
      "Epoch 16/100\n",
      "60000/60000 [==============================] - 9s 142us/step - loss: 0.0302 - acc: 0.9923\n",
      "Epoch 17/100\n",
      "60000/60000 [==============================] - 8s 140us/step - loss: 0.0284 - acc: 0.9934\n",
      "Epoch 18/100\n",
      "60000/60000 [==============================] - 8s 140us/step - loss: 0.0266 - acc: 0.9938\n",
      "Epoch 19/100\n",
      "60000/60000 [==============================] - 9s 142us/step - loss: 0.0280 - acc: 0.9933\n",
      "Epoch 20/100\n",
      "60000/60000 [==============================] - 10s 166us/step - loss: 0.0265 - acc: 0.9936\n",
      "Epoch 21/100\n",
      "60000/60000 [==============================] - 9s 150us/step - loss: 0.0282 - acc: 0.9942\n",
      "Epoch 22/100\n",
      "60000/60000 [==============================] - 10s 165us/step - loss: 0.0306 - acc: 0.9936\n",
      "Epoch 23/100\n",
      "60000/60000 [==============================] - 11s 178us/step - loss: 0.0277 - acc: 0.9937\n",
      "Epoch 24/100\n",
      "60000/60000 [==============================] - 9s 156us/step - loss: 0.0243 - acc: 0.9948\n",
      "Epoch 25/100\n",
      "60000/60000 [==============================] - 9s 157us/step - loss: 0.0255 - acc: 0.9947\n",
      "Epoch 26/100\n",
      "60000/60000 [==============================] - 9s 154us/step - loss: 0.0277 - acc: 0.9945\n",
      "Epoch 27/100\n",
      "60000/60000 [==============================] - 9s 150us/step - loss: 0.0238 - acc: 0.9948\n",
      "Epoch 28/100\n",
      "60000/60000 [==============================] - 9s 157us/step - loss: 0.0225 - acc: 0.9952\n",
      "Epoch 29/100\n",
      " 2816/60000 [>.............................] - ETA: 8s - loss: 0.0290 - acc: 0.9933"
     ]
    }
   ],
   "source": [
    "history = model.fit(X_train, Y_train, nb_epoch=nb_epoch, batch_size=batch_size, verbose=1)"
   ]
  },
  {
   "cell_type": "code",
   "execution_count": null,
   "metadata": {},
   "outputs": [],
   "source": [
    "# Evaluate\n",
    "evaluation = model.evaluate(X_test, Y_test, verbose=1)\n",
    "print('Summary: Loss over the test dataset: %.2f, Accuracy: %.2f' % (evaluation[0], evaluation[1]))"
   ]
  },
  {
   "cell_type": "code",
   "execution_count": null,
   "metadata": {},
   "outputs": [],
   "source": []
  }
 ],
 "metadata": {},
 "nbformat": 4,
 "nbformat_minor": 2
}
